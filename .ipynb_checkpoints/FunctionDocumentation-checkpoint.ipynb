{
 "cells": [
  {
   "cell_type": "markdown",
   "metadata": {},
   "source": [
    "### How to write the documentation for a function "
   ]
  },
  {
   "cell_type": "code",
   "execution_count": 81,
   "metadata": {},
   "outputs": [],
   "source": [
    "def sum_two_num(a, b):\n",
    "    \n",
    "    \"\"\"\n",
    "    Function that sums two numbers and returns the result\n",
    "    \"\"\"\n",
    "    \n",
    "    return a + b\n",
    "    \n",
    "    "
   ]
  },
  {
   "cell_type": "code",
   "execution_count": 82,
   "metadata": {},
   "outputs": [],
   "source": [
    "a = 10\n",
    "b = 20\n",
    "result = sum_two_num(a, b)"
   ]
  },
  {
   "cell_type": "code",
   "execution_count": 83,
   "metadata": {},
   "outputs": [
    {
     "data": {
      "text/plain": [
       "30"
      ]
     },
     "execution_count": 83,
     "metadata": {},
     "output_type": "execute_result"
    }
   ],
   "source": [
    "result"
   ]
  },
  {
   "cell_type": "code",
   "execution_count": 84,
   "metadata": {},
   "outputs": [
    {
     "data": {
      "text/plain": [
       "\"Return the sum of a 'start' value (default: 0) plus an iterable of numbers\\n\\nWhen the iterable is empty, return the start value.\\nThis function is intended specifically for use with numeric values and may\\nreject non-numeric types.\""
      ]
     },
     "execution_count": 84,
     "metadata": {},
     "output_type": "execute_result"
    }
   ],
   "source": [
    "# get the documentation of the function\n",
    "sum.__doc__"
   ]
  },
  {
   "cell_type": "markdown",
   "metadata": {},
   "source": [
    "### DRY (Don't Repeat Yourself)"
   ]
  },
  {
   "cell_type": "markdown",
   "metadata": {},
   "source": [
    "### Use functions to avoid repetition\n",
    "Wrapping the repeated logic in a function and then calling that function several times makes it much easier to avoid the kind of errors introduced by copying and pasting. And if you ever need to change the column \"label\" back to \"labels\", or you want to swap out PCA for some other dimensionality reduction technique, you only have to do it in one or two places."
   ]
  },
  {
   "cell_type": "code",
   "execution_count": 85,
   "metadata": {},
   "outputs": [
    {
     "data": {
      "text/html": [
       "<div>\n",
       "<style scoped>\n",
       "    .dataframe tbody tr th:only-of-type {\n",
       "        vertical-align: middle;\n",
       "    }\n",
       "\n",
       "    .dataframe tbody tr th {\n",
       "        vertical-align: top;\n",
       "    }\n",
       "\n",
       "    .dataframe thead th {\n",
       "        text-align: right;\n",
       "    }\n",
       "</style>\n",
       "<table border=\"1\" class=\"dataframe\">\n",
       "  <thead>\n",
       "    <tr style=\"text-align: right;\">\n",
       "      <th></th>\n",
       "      <th>y1</th>\n",
       "      <th>y2</th>\n",
       "      <th>y3</th>\n",
       "      <th>y4</th>\n",
       "      <th>y1_z</th>\n",
       "      <th>y2_z</th>\n",
       "      <th>y3_z</th>\n",
       "      <th>y4_z</th>\n",
       "    </tr>\n",
       "  </thead>\n",
       "  <tbody>\n",
       "    <tr>\n",
       "      <th>0</th>\n",
       "      <td>1</td>\n",
       "      <td>2</td>\n",
       "      <td>12</td>\n",
       "      <td>30</td>\n",
       "      <td>-1.060660</td>\n",
       "      <td>-0.389396</td>\n",
       "      <td>1.217216</td>\n",
       "      <td>1.788892</td>\n",
       "    </tr>\n",
       "    <tr>\n",
       "      <th>1</th>\n",
       "      <td>2</td>\n",
       "      <td>1</td>\n",
       "      <td>3</td>\n",
       "      <td>12</td>\n",
       "      <td>-0.707107</td>\n",
       "      <td>-0.601793</td>\n",
       "      <td>-0.660775</td>\n",
       "      <td>0.230825</td>\n",
       "    </tr>\n",
       "    <tr>\n",
       "      <th>2</th>\n",
       "      <td>3</td>\n",
       "      <td>0</td>\n",
       "      <td>1</td>\n",
       "      <td>12</td>\n",
       "      <td>-0.353553</td>\n",
       "      <td>-0.814191</td>\n",
       "      <td>-1.078106</td>\n",
       "      <td>0.230825</td>\n",
       "    </tr>\n",
       "    <tr>\n",
       "      <th>3</th>\n",
       "      <td>4</td>\n",
       "      <td>12</td>\n",
       "      <td>2</td>\n",
       "      <td>1</td>\n",
       "      <td>0.000000</td>\n",
       "      <td>1.734581</td>\n",
       "      <td>-0.869440</td>\n",
       "      <td>-0.721327</td>\n",
       "    </tr>\n",
       "    <tr>\n",
       "      <th>4</th>\n",
       "      <td>5</td>\n",
       "      <td>1</td>\n",
       "      <td>8</td>\n",
       "      <td>1</td>\n",
       "      <td>0.353553</td>\n",
       "      <td>-0.601793</td>\n",
       "      <td>0.382554</td>\n",
       "      <td>-0.721327</td>\n",
       "    </tr>\n",
       "    <tr>\n",
       "      <th>5</th>\n",
       "      <td>9</td>\n",
       "      <td>7</td>\n",
       "      <td>11</td>\n",
       "      <td>0</td>\n",
       "      <td>1.767767</td>\n",
       "      <td>0.672593</td>\n",
       "      <td>1.008551</td>\n",
       "      <td>-0.807887</td>\n",
       "    </tr>\n",
       "  </tbody>\n",
       "</table>\n",
       "</div>"
      ],
      "text/plain": [
       "   y1  y2  y3  y4      y1_z      y2_z      y3_z      y4_z\n",
       "0   1   2  12  30 -1.060660 -0.389396  1.217216  1.788892\n",
       "1   2   1   3  12 -0.707107 -0.601793 -0.660775  0.230825\n",
       "2   3   0   1  12 -0.353553 -0.814191 -1.078106  0.230825\n",
       "3   4  12   2   1  0.000000  1.734581 -0.869440 -0.721327\n",
       "4   5   1   8   1  0.353553 -0.601793  0.382554 -0.721327\n",
       "5   9   7  11   0  1.767767  0.672593  1.008551 -0.807887"
      ]
     },
     "execution_count": 85,
     "metadata": {},
     "output_type": "execute_result"
    }
   ],
   "source": [
    "# the function below does one simple thing: calculate the z-scores\n",
    "def standardize(column):\n",
    "  \"\"\"Standardize the values in a column.\n",
    "\n",
    "  Args:\n",
    "    column (pandas Series): The data to standardize.\n",
    "\n",
    "  Returns:\n",
    "    pandas Series: the values as z-scores\n",
    "  \"\"\"\n",
    "  # Finish the function so that it returns the z-scores\n",
    "  z_score = (column - column.mean()) / column.std()\n",
    "  return z_score\n",
    "\n",
    "import pandas as pd\n",
    "df = pd.DataFrame({'y1':[1,  2,  3,  4, 5,  9], \n",
    "                   'y2':[2,  1,  0, 12, 1,  7], \n",
    "                   'y3':[12, 3,  1,  2, 8, 11],\n",
    "                   'y4':[30,12, 12,  1, 1,  0]})\n",
    "\n",
    "# Use the standardize() function to calculate the z-scores\n",
    "df['y1_z'] = standardize(df['y1'])\n",
    "df['y2_z'] = standardize(df['y2'])\n",
    "df['y3_z'] = standardize(df['y3'])\n",
    "df['y4_z'] = standardize(df['y4'])\n",
    "df"
   ]
  },
  {
   "cell_type": "markdown",
   "metadata": {},
   "source": [
    "### Do-One-Thing \n",
    "A function should have a single functionality so it should do only one thing. \n",
    "For example the function below does more than one thing. It computes the mean and the median. It can be split into two different functions\n"
   ]
  },
  {
   "cell_type": "code",
   "execution_count": 86,
   "metadata": {},
   "outputs": [],
   "source": [
    "def mean_and_median(values):\n",
    "  \"\"\"Get the mean and median of a sorted list of `values`\n",
    "\n",
    "  Args:\n",
    "    values (iterable of float): A list of numbers\n",
    "\n",
    "  Returns:\n",
    "    tuple (float, float): The mean and median\n",
    "  \"\"\"\n",
    "  mean = sum(values) / len(values)\n",
    "  midpoint = int(len(values) / 2)\n",
    "  if len(values) % 2 == 0:\n",
    "    median = (values[midpoint - 1] + values[midpoint]) / 2\n",
    "  else:\n",
    "    median = values[midpoint]\n",
    "\n",
    "  return mean, median"
   ]
  },
  {
   "cell_type": "code",
   "execution_count": 87,
   "metadata": {},
   "outputs": [],
   "source": [
    "def mean(values):\n",
    "  \"\"\"Get the mean of a sorted list of values\n",
    "\n",
    "  Args:\n",
    "    values (iterable of float): A list of numbers\n",
    "\n",
    "  Returns:\n",
    "    float\n",
    "  \"\"\"\n",
    "  # Write the mean() function\n",
    "  mean = sum(values) / len(values)\n",
    "  return mean"
   ]
  },
  {
   "cell_type": "code",
   "execution_count": 88,
   "metadata": {},
   "outputs": [],
   "source": [
    "def median(values):\n",
    "  \"\"\"Get the median of a sorted list of values\n",
    "\n",
    "  Args:\n",
    "    values (iterable of float): A list of numbers\n",
    "\n",
    "  Returns:\n",
    "    float\n",
    "  \"\"\"\n",
    "  median = 0\n",
    "  midpoint = int(len(values) / 2)\n",
    "  if len(values) % 2 == 0:\n",
    "    median = float((values[midpoint - 1] + values[midpoint]) / 2)\n",
    "  else:\n",
    "    median = values[midpoint]\n",
    "    \n",
    "  return median  "
   ]
  },
  {
   "cell_type": "code",
   "execution_count": 89,
   "metadata": {},
   "outputs": [
    {
     "name": "stdout",
     "output_type": "stream",
     "text": [
      "4.625\n",
      "4.5\n"
     ]
    }
   ],
   "source": [
    "l = [1, 2, 3, 4, 5, 6, 7, 9]\n",
    "print(mean(l))\n",
    "print(median(l))"
   ]
  },
  {
   "cell_type": "markdown",
   "metadata": {},
   "source": [
    "### Pass by assignement \n"
   ]
  },
  {
   "cell_type": "code",
   "execution_count": 90,
   "metadata": {},
   "outputs": [
    {
     "data": {
      "text/plain": [
       "[99, 2, 3]"
      ]
     },
     "execution_count": 90,
     "metadata": {},
     "output_type": "execute_result"
    }
   ],
   "source": [
    "def my_func(x):\n",
    "    x[0] = 99\n",
    "    \n",
    "my_list = [1, 2, 3]\n",
    "my_func(my_list)\n",
    "my_list"
   ]
  },
  {
   "cell_type": "code",
   "execution_count": 91,
   "metadata": {},
   "outputs": [
    {
     "name": "stdout",
     "output_type": "stream",
     "text": [
      "3\n"
     ]
    }
   ],
   "source": [
    "def bar(x):\n",
    "    x = x + 90\n",
    "    \n",
    "my_var = 3\n",
    "bar(my_var)\n",
    "print(my_var)"
   ]
  },
  {
   "cell_type": "markdown",
   "metadata": {},
   "source": [
    "### The thing above happens becouse lists are mutabel while integers are imutable"
   ]
  },
  {
   "cell_type": "markdown",
   "metadata": {},
   "source": [
    "### Using Context Managers\n",
    "\n",
    "\n",
    "A context manager is a type of function that sets up a context for your code to run in,\n",
    "runs your code, and then removes the context. \n",
    "\n",
    "- A real-world example. The \"open()\" function is a context manager. When you write \"with open()\", it opens a file that you can read from or write to. \n",
    "Then, it gives control back to your code so that you can perform operations \n",
    "on the file object. \n",
    "In this example, we read the text of the file, store the contents of the file in the \n",
    "variable \"text\", and store the length of the contents in the variable \"length\". \n",
    "When the code inside the indented block is done, the \"open()\" function makes sure that \n",
    "the file is closed before continuing on in the script. The print statement is outside of the\n",
    "context, so by the time it runs the file is closed.\n",
    "\n",
    "- Any time you use a context manager, it will look like this. \n",
    "The keyword \"with\" lets Python know that you are trying to enter a context.\n",
    "\n",
    "- Then you call a function. You can call any function that is built to work as a \n",
    "context manager. In the next lesson, I'll show you how to write your own functions that\n",
    "work this way.\n",
    "\n",
    "- A context manager can take arguments like any normal function.\n",
    "You end the \"with\" statement with a colon as if you were writing a for loop or an if \n",
    "statement.\n",
    "\n",
    "\n",
    "- Statements in Python that have an indented block after them, like for loops, if/else \n",
    "statements, function definitions, etc. are called \"compound statements\". The \"with\" \n",
    "statement is another type of compound statement. Any code that you want to run inside the \n",
    "context that the context manager created needs to be indented.\n",
    "\n",
    "- When the indented block is done, the context manager gets a chance to clean up anything \n",
    "that it needs to, like when the \"open()\" context manager closed the file.\n",
    "\n",
    "\n",
    "- Some context managers want to return a value that you can use inside the context. By adding\n",
    "\"as\" and a variable name at the end of the \"with\" statement, you can assign the returned \n",
    "value to the variable name. We used this ability when calling the \"open()\" context manager,\n",
    "which returns a file that we can read from or write to. By adding \"as my_file\" to \n",
    "the \"with\" statement, we assigned the file to the variable \"my_file\"."
   ]
  },
  {
   "cell_type": "code",
   "execution_count": 92,
   "metadata": {},
   "outputs": [
    {
     "name": "stdout",
     "output_type": "stream",
     "text": [
      "Lewis Carroll uses the word \"cat\" 22 times\n"
     ]
    }
   ],
   "source": [
    "# Open \"alice.txt\" and assign the file to \"file\"\n",
    "with open('alice.txt') as file:\n",
    "  text = file.read()\n",
    "\n",
    "n = 0\n",
    "for word in text.split():\n",
    "  if word.lower() in ['cat', 'cats']:\n",
    "    n += 1\n",
    "\n",
    "print('Lewis Carroll uses the word \"cat\" {} times'.format(n))"
   ]
  },
  {
   "cell_type": "markdown",
   "metadata": {},
   "source": [
    "### Two ways to define a context manager\n",
    "There are two ways to define a context manager in Python: \n",
    "- by using a class that has special __enter__() and __exit__() methods or \n",
    "- by decorating a certain kind of function."
   ]
  },
  {
   "cell_type": "code",
   "execution_count": 93,
   "metadata": {},
   "outputs": [],
   "source": [
    "from contextlib import contextmanager"
   ]
  },
  {
   "cell_type": "code",
   "execution_count": 94,
   "metadata": {},
   "outputs": [],
   "source": [
    "@contextlib.contextmanager\n",
    "def my_context(): \n",
    "    print('hello')\n",
    "    yield 42\n",
    "    print('goodbye')\n",
    "    \n"
   ]
  },
  {
   "cell_type": "code",
   "execution_count": 95,
   "metadata": {},
   "outputs": [
    {
     "name": "stdout",
     "output_type": "stream",
     "text": [
      "hello\n",
      "foo is 42\n",
      "goodbye\n"
     ]
    }
   ],
   "source": [
    "with my_context() as foo: \n",
    "    print('foo is {}'.format(foo))"
   ]
  },
  {
   "cell_type": "markdown",
   "metadata": {},
   "source": [
    "The database() context manager that we've been looking at yields a specific value - the database connection - that can be used in the context block. Some context managers don't yield an explicit value. in_dir() is a context manager that changes the current working directory to a specific path and then changes it back after the context block is done. It does not need to return anything with its \"yield\" statement."
   ]
  },
  {
   "cell_type": "markdown",
   "metadata": {},
   "source": [
    "### Context managers are particularly useful when you work with files and databases\n",
    "\n",
    "<img src = \"context.png\" width = 900 high = 400>"
   ]
  },
  {
   "cell_type": "markdown",
   "metadata": {},
   "source": [
    "#### A read-only open() context manager\n",
    "You have a bunch of data files for your next deep learning project that took you months to collect and clean. It would be terrible if you accidentally overwrote one of those files when trying to read it in for training, so you decide to create a read-only version of the open() context manager to use in your project.\n",
    "\n",
    "The regular open() context manager:\n",
    "\n",
    "takes a filename and a mode ('r' for read, 'w' for write, or 'a' for append)\n",
    "opens the file for reading, writing, or appending\n",
    "yields control back to the context, along with a reference to the file\n",
    "waits for the context to finish\n",
    "and then closes the file before exiting\n",
    "Your context manager will do the same thing, except it will only take the filename as an argument and it will only open the file for reading."
   ]
  },
  {
   "cell_type": "code",
   "execution_count": 96,
   "metadata": {},
   "outputs": [
    {
     "name": "stdout",
     "output_type": "stream",
     "text": [
      "Hello, this is some text\n",
      "from my file.\n"
     ]
    }
   ],
   "source": [
    "@contextlib.contextmanager\n",
    "def open_read_only(filename):\n",
    "  \"\"\"Open a file in read-only mode.\n",
    "\n",
    "  Args:\n",
    "    filename (str): The location of the file to read\n",
    "\n",
    "  Yields:\n",
    "    file object\n",
    "  \"\"\"\n",
    "  read_only_file = open(filename, mode='r')\n",
    "  # Yield read_only_file so it can be assigned to my_file\n",
    "  yield read_only_file\n",
    "  # Close read_only_file\n",
    "  read_only_file.close()\n",
    "\n",
    "with open_read_only('my_file.txt') as my_file:\n",
    "  print(my_file.read())"
   ]
  },
  {
   "cell_type": "markdown",
   "metadata": {},
   "source": [
    "### Copying the content of a file into another file."
   ]
  },
  {
   "cell_type": "code",
   "execution_count": 97,
   "metadata": {},
   "outputs": [],
   "source": [
    "def copy_from_file(src, dest):\n",
    "    \n",
    "    with open(src, 'r') as file_read_src:\n",
    "        with open(dest, 'w') as file_read_dest:\n",
    "            for line in file_read_src:\n",
    "                file_read_dest.write(line)\n",
    "                \n",
    "copy_from_file('my_file.txt', 'the_other_file.txt')                "
   ]
  },
  {
   "cell_type": "markdown",
   "metadata": {},
   "source": [
    "### Handling Errors. "
   ]
  },
  {
   "cell_type": "code",
   "execution_count": 98,
   "metadata": {},
   "outputs": [
    {
     "ename": "IndentationError",
     "evalue": "expected an indented block (<ipython-input-98-da457601fc16>, line 4)",
     "output_type": "error",
     "traceback": [
      "\u001b[0;36m  File \u001b[0;32m\"<ipython-input-98-da457601fc16>\"\u001b[0;36m, line \u001b[0;32m4\u001b[0m\n\u001b[0;31m    except:\u001b[0m\n\u001b[0m         ^\u001b[0m\n\u001b[0;31mIndentationError\u001b[0m\u001b[0;31m:\u001b[0m expected an indented block\n"
     ]
    }
   ],
   "source": [
    "try: \n",
    "    # code that might raise and error\n",
    "\n",
    "except: \n",
    "    # do something about the error\n",
    "\n",
    "finally\n",
    "    # this code runs no matter what happens"
   ]
  },
  {
   "cell_type": "markdown",
   "metadata": {},
   "source": [
    "### Decorators in Python \n",
    "\n",
    "#### Functions are just another type of object."
   ]
  },
  {
   "cell_type": "code",
   "execution_count": 99,
   "metadata": {},
   "outputs": [
    {
     "name": "stdout",
     "output_type": "stream",
     "text": [
      "Here it is the print function at work!\n"
     ]
    }
   ],
   "source": [
    "def my_function():\n",
    "    print('hello!')\n",
    "    \n",
    "list_of_functions = [my_function, open, print] \n",
    "list_of_functions[2]('Here it is the print function at work!')"
   ]
  },
  {
   "cell_type": "markdown",
   "metadata": {},
   "source": [
    "### Functions as arguments\n",
    "\n",
    "- Functions can be passed as arguments to other functions or even return as a value from a function."
   ]
  },
  {
   "cell_type": "code",
   "execution_count": 100,
   "metadata": {},
   "outputs": [],
   "source": [
    "def get_function():\n",
    "    def print_me(stringa):\n",
    "        print(stringa)\n",
    "    \n",
    "    return print_me"
   ]
  },
  {
   "cell_type": "code",
   "execution_count": 101,
   "metadata": {},
   "outputs": [
    {
     "name": "stdout",
     "output_type": "stream",
     "text": [
      "Here it is what prints the inner function print_me()\n"
     ]
    }
   ],
   "source": [
    "new_func = get_function()\n",
    "new_func('Here it is what prints the inner function print_me()')"
   ]
  },
  {
   "cell_type": "markdown",
   "metadata": {},
   "source": [
    "### Understanding scope\n",
    "- What four values does this script print?"
   ]
  },
  {
   "cell_type": "code",
   "execution_count": 102,
   "metadata": {},
   "outputs": [
    {
     "name": "stdout",
     "output_type": "stream",
     "text": [
      "50\n",
      "30\n",
      "100\n",
      "30\n"
     ]
    }
   ],
   "source": [
    "x = 50\n",
    "\n",
    "def one():\n",
    "  x = 10\n",
    "\n",
    "def two():\n",
    "  global x\n",
    "  x = 30\n",
    "\n",
    "def three():\n",
    "  x = 100\n",
    "  print(x)\n",
    "\n",
    "for func in [one, two, three]:\n",
    "  func()\n",
    "  print(x)"
   ]
  },
  {
   "cell_type": "markdown",
   "metadata": {},
   "source": [
    "### Add a keyword that lets us update the call_count"
   ]
  },
  {
   "cell_type": "code",
   "execution_count": 104,
   "metadata": {
    "scrolled": false
   },
   "outputs": [
    {
     "name": "stdout",
     "output_type": "stream",
     "text": [
      "You've called my_function() 1 times!\n",
      "You've called my_function() 2 times!\n",
      "You've called my_function() 3 times!\n",
      "You've called my_function() 4 times!\n",
      "You've called my_function() 5 times!\n",
      "You've called my_function() 6 times!\n",
      "You've called my_function() 7 times!\n",
      "You've called my_function() 8 times!\n",
      "You've called my_function() 9 times!\n",
      "You've called my_function() 10 times!\n",
      "You've called my_function() 11 times!\n",
      "You've called my_function() 12 times!\n",
      "You've called my_function() 13 times!\n",
      "You've called my_function() 14 times!\n",
      "You've called my_function() 15 times!\n",
      "You've called my_function() 16 times!\n",
      "You've called my_function() 17 times!\n",
      "You've called my_function() 18 times!\n",
      "You've called my_function() 19 times!\n",
      "You've called my_function() 20 times!\n"
     ]
    }
   ],
   "source": [
    "call_count = 0\n",
    "\n",
    "def my_function():\n",
    "    # Use a keyword that lets us update call_count \n",
    "    global call_count\n",
    "    call_count += 1\n",
    "  \n",
    "    print(\"You've called my_function() {} times!\".format(\n",
    "        call_count\n",
    "    ))\n",
    "  \n",
    "for _ in range(20):\n",
    "  my_function()"
   ]
  },
  {
   "cell_type": "code",
   "execution_count": 115,
   "metadata": {},
   "outputs": [
    {
     "name": "stdout",
     "output_type": "stream",
     "text": [
      "Work done? True\n"
     ]
    }
   ],
   "source": [
    "import random\n",
    "def wait_until_done():\n",
    "  def check_is_done():\n",
    "    # Add a keyword so that wait_until_done() \n",
    "    # doesn't run forever\n",
    "    global done\n",
    "    if random.random() < 0.1:\n",
    "      done = True\n",
    "      \n",
    "  while not done:\n",
    "    check_is_done()\n",
    "\n",
    "done = False\n",
    "wait_until_done()\n",
    "\n",
    "print('Work done? {}'.format(done))"
   ]
  },
  {
   "cell_type": "markdown",
   "metadata": {},
   "source": [
    "### Closures in Python\n",
    "\n",
    "- A closure in Python is a tuple of variables that are no longer in scope, but that a function needs in order to run. - Let's explain this with an example. The function foo() defines a nested function bar() that prints the value of \"a\". \n",
    "- foo() returns this new function, so when we say \"func = foo()\" we are assigning the bar() function to the variable \"func\". \n",
    "- Now what happens when we call func()? As expected, it prints the value of variable \"a\", which is 5. But wait a minute, how does function \"func()\" know anything about variable \"a\"? \"a\" is defined in foo()'s scope, not bar()'s. - - You would think that \"a\" would not be observable outside of the scope of foo(). \n",
    "- That's where closures come in. When foo() returned the new bar() function, Python helpfully attached any nonlocal variable that bar() was going to need to the function object. Those variables get stored in a tuple in the \"__closure__\" attribute of the function. The closure for \"func\" has one variable, and you can view the value of that variable by accessing the \"cell_contents\" of the item."
   ]
  },
  {
   "cell_type": "code",
   "execution_count": 117,
   "metadata": {},
   "outputs": [
    {
     "name": "stdout",
     "output_type": "stream",
     "text": [
      "5\n"
     ]
    }
   ],
   "source": [
    "def foo():\n",
    "    a = 5\n",
    "    def bar():\n",
    "        print(a)\n",
    "    return bar\n",
    "\n",
    "func = foo()\n",
    "func()"
   ]
  },
  {
   "cell_type": "code",
   "execution_count": 118,
   "metadata": {},
   "outputs": [
    {
     "data": {
      "text/plain": [
       "1"
      ]
     },
     "execution_count": 118,
     "metadata": {},
     "output_type": "execute_result"
    }
   ],
   "source": [
    "len(func.__closure__)"
   ]
  },
  {
   "cell_type": "code",
   "execution_count": 123,
   "metadata": {},
   "outputs": [
    {
     "data": {
      "text/plain": [
       "5"
      ]
     },
     "execution_count": 123,
     "metadata": {},
     "output_type": "execute_result"
    }
   ],
   "source": [
    "func.__closure__[0].cell_contents"
   ]
  },
  {
   "cell_type": "markdown",
   "metadata": {},
   "source": [
    "### Another example of closure "
   ]
  },
  {
   "cell_type": "code",
   "execution_count": 124,
   "metadata": {},
   "outputs": [
    {
     "name": "stdout",
     "output_type": "stream",
     "text": [
      "25\n"
     ]
    }
   ],
   "source": [
    "x = 25\n",
    "\n",
    "def foo(value):\n",
    "    def bar():\n",
    "        print(value)\n",
    "    return bar\n",
    "\n",
    "my_func = foo(x)\n",
    "my_func()"
   ]
  },
  {
   "cell_type": "code",
   "execution_count": 125,
   "metadata": {},
   "outputs": [
    {
     "data": {
      "text/plain": [
       "1"
      ]
     },
     "execution_count": 125,
     "metadata": {},
     "output_type": "execute_result"
    }
   ],
   "source": [
    "len(my_func.__closure__)"
   ]
  },
  {
   "cell_type": "code",
   "execution_count": 126,
   "metadata": {},
   "outputs": [
    {
     "data": {
      "text/plain": [
       "25"
      ]
     },
     "execution_count": 126,
     "metadata": {},
     "output_type": "execute_result"
    }
   ],
   "source": [
    "my_func.__closure__[0].cell_contents"
   ]
  },
  {
   "cell_type": "markdown",
   "metadata": {},
   "source": [
    "### Closures are important in order to understand decorators"
   ]
  },
  {
   "cell_type": "code",
   "execution_count": 127,
   "metadata": {},
   "outputs": [],
   "source": [
    "## nested functions\n",
    "def parent():\n",
    "    # nested function\n",
    "    def child():\n",
    "        pass\n",
    "    return child"
   ]
  },
  {
   "cell_type": "code",
   "execution_count": 130,
   "metadata": {},
   "outputs": [
    {
     "name": "stdout",
     "output_type": "stream",
     "text": [
      "[2, 4, {'choco': 'yummy'}, 22]\n"
     ]
    }
   ],
   "source": [
    "def parent(arg_1, arg_2):\n",
    "    value = 22\n",
    "    my_dict = {'choco':'yummy'}\n",
    "    \n",
    "    def child():\n",
    "        print(2*value)\n",
    "        print(my_dict['choco'])\n",
    "        print(arg_1 + arg_2)\n",
    "        \n",
    "    return child\n",
    "\n",
    "new_func = parent(2, 4)\n",
    "        \n",
    "print([cell.cell_contents for cell in new_func.__closure__])        "
   ]
  },
  {
   "cell_type": "code",
   "execution_count": 136,
   "metadata": {},
   "outputs": [
    {
     "data": {
      "text/plain": [
       "4"
      ]
     },
     "execution_count": 136,
     "metadata": {},
     "output_type": "execute_result"
    }
   ],
   "source": [
    "len(new_func.__closure__)"
   ]
  },
  {
   "cell_type": "code",
   "execution_count": 137,
   "metadata": {},
   "outputs": [
    {
     "name": "stdout",
     "output_type": "stream",
     "text": [
      "2\n",
      "4\n",
      "{'choco': 'yummy'}\n",
      "22\n"
     ]
    }
   ],
   "source": [
    "for i in range(len(new_func.__closure__)): \n",
    "    print(new_func.__closure__[i].cell_contents)"
   ]
  },
  {
   "cell_type": "code",
   "execution_count": null,
   "metadata": {},
   "outputs": [],
   "source": []
  }
 ],
 "metadata": {
  "kernelspec": {
   "display_name": "Python 3",
   "language": "python",
   "name": "python3"
  },
  "language_info": {
   "codemirror_mode": {
    "name": "ipython",
    "version": 3
   },
   "file_extension": ".py",
   "mimetype": "text/x-python",
   "name": "python",
   "nbconvert_exporter": "python",
   "pygments_lexer": "ipython3",
   "version": "3.7.4"
  }
 },
 "nbformat": 4,
 "nbformat_minor": 2
}
