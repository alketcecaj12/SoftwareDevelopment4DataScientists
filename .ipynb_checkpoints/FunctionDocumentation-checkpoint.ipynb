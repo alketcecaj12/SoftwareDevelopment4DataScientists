{
 "cells": [
  {
   "cell_type": "markdown",
   "metadata": {},
   "source": [
    "### How to write the documentation for a function "
   ]
  },
  {
   "cell_type": "code",
   "execution_count": 1,
   "metadata": {},
   "outputs": [],
   "source": [
    "def sum_two_num(a, b):\n",
    "    \n",
    "    \"\"\"\n",
    "    Function that sums two numbers and returns the result\n",
    "    \"\"\"\n",
    "    \n",
    "    return a + b\n",
    "    \n",
    "    "
   ]
  },
  {
   "cell_type": "code",
   "execution_count": 2,
   "metadata": {},
   "outputs": [],
   "source": [
    "a = 10\n",
    "b = 20\n",
    "result = sum_two_num(a, b)"
   ]
  },
  {
   "cell_type": "code",
   "execution_count": 3,
   "metadata": {},
   "outputs": [
    {
     "data": {
      "text/plain": [
       "30"
      ]
     },
     "execution_count": 3,
     "metadata": {},
     "output_type": "execute_result"
    }
   ],
   "source": [
    "result"
   ]
  },
  {
   "cell_type": "code",
   "execution_count": 4,
   "metadata": {},
   "outputs": [
    {
     "data": {
      "text/plain": [
       "\"Return the sum of a 'start' value (default: 0) plus an iterable of numbers\\n\\nWhen the iterable is empty, return the start value.\\nThis function is intended specifically for use with numeric values and may\\nreject non-numeric types.\""
      ]
     },
     "execution_count": 4,
     "metadata": {},
     "output_type": "execute_result"
    }
   ],
   "source": [
    "# get the documentation of the function\n",
    "sum.__doc__"
   ]
  },
  {
   "cell_type": "markdown",
   "metadata": {},
   "source": [
    "### DRY (Don't Repeat Yourself)"
   ]
  },
  {
   "cell_type": "markdown",
   "metadata": {},
   "source": [
    "### Use functions to avoid repetition\n",
    "Wrapping the repeated logic in a function and then calling that function several times makes it much easier to avoid the kind of errors introduced by copying and pasting. And if you ever need to change the column \"label\" back to \"labels\", or you want to swap out PCA for some other dimensionality reduction technique, you only have to do it in one or two places."
   ]
  },
  {
   "cell_type": "code",
   "execution_count": 5,
   "metadata": {},
   "outputs": [
    {
     "data": {
      "text/html": [
       "<div>\n",
       "<style scoped>\n",
       "    .dataframe tbody tr th:only-of-type {\n",
       "        vertical-align: middle;\n",
       "    }\n",
       "\n",
       "    .dataframe tbody tr th {\n",
       "        vertical-align: top;\n",
       "    }\n",
       "\n",
       "    .dataframe thead th {\n",
       "        text-align: right;\n",
       "    }\n",
       "</style>\n",
       "<table border=\"1\" class=\"dataframe\">\n",
       "  <thead>\n",
       "    <tr style=\"text-align: right;\">\n",
       "      <th></th>\n",
       "      <th>y1</th>\n",
       "      <th>y2</th>\n",
       "      <th>y3</th>\n",
       "      <th>y4</th>\n",
       "      <th>y1_z</th>\n",
       "      <th>y2_z</th>\n",
       "      <th>y3_z</th>\n",
       "      <th>y4_z</th>\n",
       "    </tr>\n",
       "  </thead>\n",
       "  <tbody>\n",
       "    <tr>\n",
       "      <th>0</th>\n",
       "      <td>1</td>\n",
       "      <td>2</td>\n",
       "      <td>12</td>\n",
       "      <td>30</td>\n",
       "      <td>-1.060660</td>\n",
       "      <td>-0.389396</td>\n",
       "      <td>1.217216</td>\n",
       "      <td>1.788892</td>\n",
       "    </tr>\n",
       "    <tr>\n",
       "      <th>1</th>\n",
       "      <td>2</td>\n",
       "      <td>1</td>\n",
       "      <td>3</td>\n",
       "      <td>12</td>\n",
       "      <td>-0.707107</td>\n",
       "      <td>-0.601793</td>\n",
       "      <td>-0.660775</td>\n",
       "      <td>0.230825</td>\n",
       "    </tr>\n",
       "    <tr>\n",
       "      <th>2</th>\n",
       "      <td>3</td>\n",
       "      <td>0</td>\n",
       "      <td>1</td>\n",
       "      <td>12</td>\n",
       "      <td>-0.353553</td>\n",
       "      <td>-0.814191</td>\n",
       "      <td>-1.078106</td>\n",
       "      <td>0.230825</td>\n",
       "    </tr>\n",
       "    <tr>\n",
       "      <th>3</th>\n",
       "      <td>4</td>\n",
       "      <td>12</td>\n",
       "      <td>2</td>\n",
       "      <td>1</td>\n",
       "      <td>0.000000</td>\n",
       "      <td>1.734581</td>\n",
       "      <td>-0.869440</td>\n",
       "      <td>-0.721327</td>\n",
       "    </tr>\n",
       "    <tr>\n",
       "      <th>4</th>\n",
       "      <td>5</td>\n",
       "      <td>1</td>\n",
       "      <td>8</td>\n",
       "      <td>1</td>\n",
       "      <td>0.353553</td>\n",
       "      <td>-0.601793</td>\n",
       "      <td>0.382554</td>\n",
       "      <td>-0.721327</td>\n",
       "    </tr>\n",
       "    <tr>\n",
       "      <th>5</th>\n",
       "      <td>9</td>\n",
       "      <td>7</td>\n",
       "      <td>11</td>\n",
       "      <td>0</td>\n",
       "      <td>1.767767</td>\n",
       "      <td>0.672593</td>\n",
       "      <td>1.008551</td>\n",
       "      <td>-0.807887</td>\n",
       "    </tr>\n",
       "  </tbody>\n",
       "</table>\n",
       "</div>"
      ],
      "text/plain": [
       "   y1  y2  y3  y4      y1_z      y2_z      y3_z      y4_z\n",
       "0   1   2  12  30 -1.060660 -0.389396  1.217216  1.788892\n",
       "1   2   1   3  12 -0.707107 -0.601793 -0.660775  0.230825\n",
       "2   3   0   1  12 -0.353553 -0.814191 -1.078106  0.230825\n",
       "3   4  12   2   1  0.000000  1.734581 -0.869440 -0.721327\n",
       "4   5   1   8   1  0.353553 -0.601793  0.382554 -0.721327\n",
       "5   9   7  11   0  1.767767  0.672593  1.008551 -0.807887"
      ]
     },
     "execution_count": 5,
     "metadata": {},
     "output_type": "execute_result"
    }
   ],
   "source": [
    "# the function below does one simple thing: calculate the z-scores\n",
    "def standardize(column):\n",
    "  \"\"\"Standardize the values in a column.\n",
    "\n",
    "  Args:\n",
    "    column (pandas Series): The data to standardize.\n",
    "\n",
    "  Returns:\n",
    "    pandas Series: the values as z-scores\n",
    "  \"\"\"\n",
    "  # Finish the function so that it returns the z-scores\n",
    "  z_score = (column - column.mean()) / column.std()\n",
    "  return z_score\n",
    "\n",
    "import pandas as pd\n",
    "df = pd.DataFrame({'y1':[1,  2,  3,  4, 5,  9], \n",
    "                   'y2':[2,  1,  0, 12, 1,  7], \n",
    "                   'y3':[12, 3,  1,  2, 8, 11],\n",
    "                   'y4':[30,12, 12,  1, 1,  0]})\n",
    "\n",
    "# Use the standardize() function to calculate the z-scores\n",
    "df['y1_z'] = standardize(df['y1'])\n",
    "df['y2_z'] = standardize(df['y2'])\n",
    "df['y3_z'] = standardize(df['y3'])\n",
    "df['y4_z'] = standardize(df['y4'])\n",
    "df"
   ]
  },
  {
   "cell_type": "markdown",
   "metadata": {},
   "source": [
    "### Do-One-Thing \n",
    "A function should have a single functionality so it should do only one thing. \n",
    "For example the function below does more than one thing. It computes the mean and the median. It can be split into two different functions\n"
   ]
  },
  {
   "cell_type": "code",
   "execution_count": 6,
   "metadata": {},
   "outputs": [],
   "source": [
    "def mean_and_median(values):\n",
    "  \"\"\"Get the mean and median of a sorted list of `values`\n",
    "\n",
    "  Args:\n",
    "    values (iterable of float): A list of numbers\n",
    "\n",
    "  Returns:\n",
    "    tuple (float, float): The mean and median\n",
    "  \"\"\"\n",
    "  mean = sum(values) / len(values)\n",
    "  midpoint = int(len(values) / 2)\n",
    "  if len(values) % 2 == 0:\n",
    "    median = (values[midpoint - 1] + values[midpoint]) / 2\n",
    "  else:\n",
    "    median = values[midpoint]\n",
    "\n",
    "  return mean, median"
   ]
  },
  {
   "cell_type": "code",
   "execution_count": 7,
   "metadata": {},
   "outputs": [],
   "source": [
    "def mean(values):\n",
    "  \"\"\"Get the mean of a sorted list of values\n",
    "\n",
    "  Args:\n",
    "    values (iterable of float): A list of numbers\n",
    "\n",
    "  Returns:\n",
    "    float\n",
    "  \"\"\"\n",
    "  # Write the mean() function\n",
    "  mean = sum(values) / len(values)\n",
    "  return mean"
   ]
  },
  {
   "cell_type": "code",
   "execution_count": 14,
   "metadata": {},
   "outputs": [],
   "source": [
    "def median(values):\n",
    "  \"\"\"Get the median of a sorted list of values\n",
    "\n",
    "  Args:\n",
    "    values (iterable of float): A list of numbers\n",
    "\n",
    "  Returns:\n",
    "    float\n",
    "  \"\"\"\n",
    "  median = 0\n",
    "  midpoint = int(len(values) / 2)\n",
    "  if len(values) % 2 == 0:\n",
    "    median = float((values[midpoint - 1] + values[midpoint]) / 2)\n",
    "  else:\n",
    "    median = values[midpoint]\n",
    "    \n",
    "  return median  "
   ]
  },
  {
   "cell_type": "code",
   "execution_count": 15,
   "metadata": {},
   "outputs": [
    {
     "name": "stdout",
     "output_type": "stream",
     "text": [
      "4.625\n",
      "4.5\n"
     ]
    }
   ],
   "source": [
    "l = [1, 2, 3, 4, 5, 6, 7, 9]\n",
    "print(mean(l))\n",
    "print(median(l))"
   ]
  },
  {
   "cell_type": "markdown",
   "metadata": {},
   "source": [
    "### Pass by assignement \n"
   ]
  },
  {
   "cell_type": "code",
   "execution_count": 18,
   "metadata": {},
   "outputs": [
    {
     "data": {
      "text/plain": [
       "[99, 2, 3]"
      ]
     },
     "execution_count": 18,
     "metadata": {},
     "output_type": "execute_result"
    }
   ],
   "source": [
    "def my_func(x):\n",
    "    x[0] = 99\n",
    "    \n",
    "my_list = [1, 2, 3]\n",
    "my_func(my_list)\n",
    "my_list"
   ]
  },
  {
   "cell_type": "code",
   "execution_count": 19,
   "metadata": {},
   "outputs": [
    {
     "name": "stdout",
     "output_type": "stream",
     "text": [
      "3\n"
     ]
    }
   ],
   "source": [
    "def bar(x):\n",
    "    x = x + 90\n",
    "    \n",
    "my_var = 3\n",
    "bar(my_var)\n",
    "print(my_var)"
   ]
  },
  {
   "cell_type": "markdown",
   "metadata": {},
   "source": [
    "### The thing above happens becouse lists are mutabel while integers are imutable"
   ]
  },
  {
   "cell_type": "markdown",
   "metadata": {},
   "source": [
    "### Using Context Managers\n",
    "\n",
    "\n",
    "A context manager is a type of function that sets up a context for your code to run in,\n",
    "runs your code, and then removes the context. \n",
    "\n",
    "- A real-world example. The \"open()\" function is a context manager. When you write \"with open()\", it opens a file that you can read from or write to. \n",
    "Then, it gives control back to your code so that you can perform operations \n",
    "on the file object. \n",
    "In this example, we read the text of the file, store the contents of the file in the \n",
    "variable \"text\", and store the length of the contents in the variable \"length\". \n",
    "When the code inside the indented block is done, the \"open()\" function makes sure that \n",
    "the file is closed before continuing on in the script. The print statement is outside of the\n",
    "context, so by the time it runs the file is closed.\n",
    "\n",
    "- Any time you use a context manager, it will look like this. \n",
    "The keyword \"with\" lets Python know that you are trying to enter a context.\n",
    "\n",
    "- Then you call a function. You can call any function that is built to work as a \n",
    "context manager. In the next lesson, I'll show you how to write your own functions that\n",
    "work this way.\n",
    "\n",
    "- A context manager can take arguments like any normal function.\n",
    "You end the \"with\" statement with a colon as if you were writing a for loop or an if \n",
    "statement.\n",
    "\n",
    "\n",
    "- Statements in Python that have an indented block after them, like for loops, if/else \n",
    "statements, function definitions, etc. are called \"compound statements\". The \"with\" \n",
    "statement is another type of compound statement. Any code that you want to run inside the \n",
    "context that the context manager created needs to be indented.\n",
    "\n",
    "- When the indented block is done, the context manager gets a chance to clean up anything \n",
    "that it needs to, like when the \"open()\" context manager closed the file.\n",
    "\n",
    "\n",
    "- Some context managers want to return a value that you can use inside the context. By adding\n",
    "\"as\" and a variable name at the end of the \"with\" statement, you can assign the returned \n",
    "value to the variable name. We used this ability when calling the \"open()\" context manager,\n",
    "which returns a file that we can read from or write to. By adding \"as my_file\" to \n",
    "the \"with\" statement, we assigned the file to the variable \"my_file\"."
   ]
  },
  {
   "cell_type": "code",
   "execution_count": 20,
   "metadata": {},
   "outputs": [
    {
     "name": "stdout",
     "output_type": "stream",
     "text": [
      "Lewis Carroll uses the word \"cat\" 22 times\n"
     ]
    }
   ],
   "source": [
    "# Open \"alice.txt\" and assign the file to \"file\"\n",
    "with open('alice.txt') as file:\n",
    "  text = file.read()\n",
    "\n",
    "n = 0\n",
    "for word in text.split():\n",
    "  if word.lower() in ['cat', 'cats']:\n",
    "    n += 1\n",
    "\n",
    "print('Lewis Carroll uses the word \"cat\" {} times'.format(n))"
   ]
  },
  {
   "cell_type": "markdown",
   "metadata": {},
   "source": [
    "### Two ways to define a context manager\n",
    "There are two ways to define a context manager in Python: \n",
    "- by using a class that has special __enter__() and __exit__() methods or \n",
    "- by decorating a certain kind of function."
   ]
  },
  {
   "cell_type": "code",
   "execution_count": 31,
   "metadata": {},
   "outputs": [],
   "source": [
    "import contextlib "
   ]
  },
  {
   "cell_type": "code",
   "execution_count": 32,
   "metadata": {},
   "outputs": [
    {
     "ename": "TypeError",
     "evalue": "'module' object is not callable",
     "output_type": "error",
     "traceback": [
      "\u001b[0;31m---------------------------------------------------------------------------\u001b[0m",
      "\u001b[0;31mTypeError\u001b[0m                                 Traceback (most recent call last)",
      "\u001b[0;32m<ipython-input-32-f711d704e3fc>\u001b[0m in \u001b[0;36m<module>\u001b[0;34m\u001b[0m\n\u001b[0;32m----> 1\u001b[0;31m \u001b[0;34m@\u001b[0m\u001b[0mcontextlib\u001b[0m\u001b[0;34m\u001b[0m\u001b[0;34m\u001b[0m\u001b[0m\n\u001b[0m\u001b[1;32m      2\u001b[0m \u001b[0;32mdef\u001b[0m \u001b[0mmy_context\u001b[0m\u001b[0;34m(\u001b[0m\u001b[0;34m)\u001b[0m\u001b[0;34m:\u001b[0m\u001b[0;34m\u001b[0m\u001b[0;34m\u001b[0m\u001b[0m\n\u001b[1;32m      3\u001b[0m     \u001b[0mprint\u001b[0m\u001b[0;34m(\u001b[0m\u001b[0;34m'hello'\u001b[0m\u001b[0;34m)\u001b[0m\u001b[0;34m\u001b[0m\u001b[0;34m\u001b[0m\u001b[0m\n\u001b[1;32m      4\u001b[0m     \u001b[0;32myield\u001b[0m \u001b[0;36m42\u001b[0m\u001b[0;34m\u001b[0m\u001b[0;34m\u001b[0m\u001b[0m\n\u001b[1;32m      5\u001b[0m     \u001b[0mprint\u001b[0m\u001b[0;34m(\u001b[0m\u001b[0;34m'goodbye'\u001b[0m\u001b[0;34m)\u001b[0m\u001b[0;34m\u001b[0m\u001b[0;34m\u001b[0m\u001b[0m\n",
      "\u001b[0;31mTypeError\u001b[0m: 'module' object is not callable"
     ]
    }
   ],
   "source": [
    "@contextlib\n",
    "def my_context(): \n",
    "    print('hello')\n",
    "    yield 42\n",
    "    print('goodbye')\n",
    "    \n",
    "    \n",
    "with my_context as foo: \n",
    "    print(foo)"
   ]
  },
  {
   "cell_type": "code",
   "execution_count": null,
   "metadata": {},
   "outputs": [],
   "source": []
  },
  {
   "cell_type": "markdown",
   "metadata": {},
   "source": [
    "The database() context manager that we've been looking at yields a specific value - the database connection - that can be used in the context block. Some context managers don't yield an explicit value. in_dir() is a context manager that changes the current working directory to a specific path and then changes it back after the context block is done. It does not need to return anything with its \"yield\" statement."
   ]
  },
  {
   "cell_type": "code",
   "execution_count": null,
   "metadata": {},
   "outputs": [],
   "source": []
  },
  {
   "cell_type": "code",
   "execution_count": null,
   "metadata": {},
   "outputs": [],
   "source": []
  }
 ],
 "metadata": {
  "kernelspec": {
   "display_name": "Python 3",
   "language": "python",
   "name": "python3"
  },
  "language_info": {
   "codemirror_mode": {
    "name": "ipython",
    "version": 3
   },
   "file_extension": ".py",
   "mimetype": "text/x-python",
   "name": "python",
   "nbconvert_exporter": "python",
   "pygments_lexer": "ipython3",
   "version": "3.7.4"
  }
 },
 "nbformat": 4,
 "nbformat_minor": 2
}
